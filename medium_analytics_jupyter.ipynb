{
 "cells": [
  {
   "cell_type": "code",
   "execution_count": 1,
   "id": "79a1c471",
   "metadata": {},
   "outputs": [],
   "source": [
    "import json\n",
    "import pandas as pd\n",
    "import numpy as np"
   ]
  },
  {
   "cell_type": "code",
   "execution_count": 2,
   "id": "7d029e4d",
   "metadata": {},
   "outputs": [],
   "source": [
    "# Upload JSON-file\n",
    "with open(\"experiment_output.json\", \"r\") as file:\n",
    "    data = json.load(file)\n",
    "\n",
    "# Make DataFrame\n",
    "df = pd.DataFrame(data)"
   ]
  },
  {
   "cell_type": "code",
   "execution_count": 4,
   "id": "3f818833",
   "metadata": {},
   "outputs": [
    {
     "data": {
      "text/html": [
       "<div>\n",
       "<style scoped>\n",
       "    .dataframe tbody tr th:only-of-type {\n",
       "        vertical-align: middle;\n",
       "    }\n",
       "\n",
       "    .dataframe tbody tr th {\n",
       "        vertical-align: top;\n",
       "    }\n",
       "\n",
       "    .dataframe thead th {\n",
       "        text-align: right;\n",
       "    }\n",
       "</style>\n",
       "<table border=\"1\" class=\"dataframe\">\n",
       "  <thead>\n",
       "    <tr style=\"text-align: right;\">\n",
       "      <th></th>\n",
       "      <th>time_point</th>\n",
       "      <th>steps_count</th>\n",
       "      <th>heart_rate</th>\n",
       "      <th>skin_temp</th>\n",
       "      <th>event_flag</th>\n",
       "    </tr>\n",
       "  </thead>\n",
       "  <tbody>\n",
       "    <tr>\n",
       "      <th>0</th>\n",
       "      <td>0</td>\n",
       "      <td>0</td>\n",
       "      <td>60.0</td>\n",
       "      <td>36.5</td>\n",
       "      <td>sleep</td>\n",
       "    </tr>\n",
       "    <tr>\n",
       "      <th>1</th>\n",
       "      <td>1</td>\n",
       "      <td>0</td>\n",
       "      <td>58.0</td>\n",
       "      <td>36.4</td>\n",
       "      <td>sleep</td>\n",
       "    </tr>\n",
       "    <tr>\n",
       "      <th>2</th>\n",
       "      <td>2</td>\n",
       "      <td>0</td>\n",
       "      <td>59.0</td>\n",
       "      <td>36.3</td>\n",
       "      <td>sleep</td>\n",
       "    </tr>\n",
       "    <tr>\n",
       "      <th>3</th>\n",
       "      <td>3</td>\n",
       "      <td>0</td>\n",
       "      <td>57.0</td>\n",
       "      <td>36.2</td>\n",
       "      <td>sleep</td>\n",
       "    </tr>\n",
       "    <tr>\n",
       "      <th>4</th>\n",
       "      <td>4</td>\n",
       "      <td>0</td>\n",
       "      <td>56.0</td>\n",
       "      <td>36.1</td>\n",
       "      <td>sleep</td>\n",
       "    </tr>\n",
       "    <tr>\n",
       "      <th>5</th>\n",
       "      <td>5</td>\n",
       "      <td>0</td>\n",
       "      <td>55.0</td>\n",
       "      <td>36.0</td>\n",
       "      <td>sleep</td>\n",
       "    </tr>\n",
       "    <tr>\n",
       "      <th>6</th>\n",
       "      <td>6</td>\n",
       "      <td>10</td>\n",
       "      <td>65.0</td>\n",
       "      <td>36.2</td>\n",
       "      <td>normal</td>\n",
       "    </tr>\n",
       "    <tr>\n",
       "      <th>7</th>\n",
       "      <td>7</td>\n",
       "      <td>500</td>\n",
       "      <td>120.0</td>\n",
       "      <td>37.0</td>\n",
       "      <td>workout</td>\n",
       "    </tr>\n",
       "    <tr>\n",
       "      <th>8</th>\n",
       "      <td>8</td>\n",
       "      <td>2000</td>\n",
       "      <td>100.0</td>\n",
       "      <td>37.2</td>\n",
       "      <td>normal</td>\n",
       "    </tr>\n",
       "    <tr>\n",
       "      <th>9</th>\n",
       "      <td>9</td>\n",
       "      <td>3000</td>\n",
       "      <td>90.0</td>\n",
       "      <td>37.3</td>\n",
       "      <td>normal</td>\n",
       "    </tr>\n",
       "  </tbody>\n",
       "</table>\n",
       "</div>"
      ],
      "text/plain": [
       "   time_point  steps_count  heart_rate  skin_temp event_flag\n",
       "0           0            0        60.0       36.5      sleep\n",
       "1           1            0        58.0       36.4      sleep\n",
       "2           2            0        59.0       36.3      sleep\n",
       "3           3            0        57.0       36.2      sleep\n",
       "4           4            0        56.0       36.1      sleep\n",
       "5           5            0        55.0       36.0      sleep\n",
       "6           6           10        65.0       36.2     normal\n",
       "7           7          500       120.0       37.0    workout\n",
       "8           8         2000       100.0       37.2     normal\n",
       "9           9         3000        90.0       37.3     normal"
      ]
     },
     "execution_count": 4,
     "metadata": {},
     "output_type": "execute_result"
    }
   ],
   "source": [
    "df.head(10)"
   ]
  },
  {
   "cell_type": "code",
   "execution_count": 5,
   "id": "c3965fe9",
   "metadata": {},
   "outputs": [
    {
     "name": "stdout",
     "output_type": "stream",
     "text": [
      "<class 'pandas.core.frame.DataFrame'>\n",
      "RangeIndex: 24 entries, 0 to 23\n",
      "Data columns (total 5 columns):\n",
      " #   Column       Non-Null Count  Dtype  \n",
      "---  ------       --------------  -----  \n",
      " 0   time_point   24 non-null     int64  \n",
      " 1   steps_count  24 non-null     int64  \n",
      " 2   heart_rate   24 non-null     float64\n",
      " 3   skin_temp    24 non-null     float64\n",
      " 4   event_flag   24 non-null     object \n",
      "dtypes: float64(2), int64(2), object(1)\n",
      "memory usage: 1.1+ KB\n"
     ]
    }
   ],
   "source": [
    "df.info()"
   ]
  },
  {
   "cell_type": "code",
   "execution_count": 6,
   "id": "a0047596",
   "metadata": {},
   "outputs": [
    {
     "data": {
      "text/html": [
       "<div>\n",
       "<style scoped>\n",
       "    .dataframe tbody tr th:only-of-type {\n",
       "        vertical-align: middle;\n",
       "    }\n",
       "\n",
       "    .dataframe tbody tr th {\n",
       "        vertical-align: top;\n",
       "    }\n",
       "\n",
       "    .dataframe thead th {\n",
       "        text-align: right;\n",
       "    }\n",
       "</style>\n",
       "<table border=\"1\" class=\"dataframe\">\n",
       "  <thead>\n",
       "    <tr style=\"text-align: right;\">\n",
       "      <th></th>\n",
       "      <th>time_point</th>\n",
       "      <th>steps_count</th>\n",
       "      <th>heart_rate</th>\n",
       "      <th>skin_temp</th>\n",
       "    </tr>\n",
       "  </thead>\n",
       "  <tbody>\n",
       "    <tr>\n",
       "      <th>count</th>\n",
       "      <td>24.000000</td>\n",
       "      <td>24.000000</td>\n",
       "      <td>24.000000</td>\n",
       "      <td>24.000000</td>\n",
       "    </tr>\n",
       "    <tr>\n",
       "      <th>mean</th>\n",
       "      <td>11.500000</td>\n",
       "      <td>1340.000000</td>\n",
       "      <td>74.125000</td>\n",
       "      <td>36.850000</td>\n",
       "    </tr>\n",
       "    <tr>\n",
       "      <th>std</th>\n",
       "      <td>7.071068</td>\n",
       "      <td>1842.708309</td>\n",
       "      <td>18.101916</td>\n",
       "      <td>0.486335</td>\n",
       "    </tr>\n",
       "    <tr>\n",
       "      <th>min</th>\n",
       "      <td>0.000000</td>\n",
       "      <td>0.000000</td>\n",
       "      <td>55.000000</td>\n",
       "      <td>36.000000</td>\n",
       "    </tr>\n",
       "    <tr>\n",
       "      <th>25%</th>\n",
       "      <td>5.750000</td>\n",
       "      <td>0.000000</td>\n",
       "      <td>58.750000</td>\n",
       "      <td>36.475000</td>\n",
       "    </tr>\n",
       "    <tr>\n",
       "      <th>50%</th>\n",
       "      <td>11.500000</td>\n",
       "      <td>350.000000</td>\n",
       "      <td>70.000000</td>\n",
       "      <td>36.950000</td>\n",
       "    </tr>\n",
       "    <tr>\n",
       "      <th>75%</th>\n",
       "      <td>17.250000</td>\n",
       "      <td>2250.000000</td>\n",
       "      <td>85.000000</td>\n",
       "      <td>37.225000</td>\n",
       "    </tr>\n",
       "    <tr>\n",
       "      <th>max</th>\n",
       "      <td>23.000000</td>\n",
       "      <td>6000.000000</td>\n",
       "      <td>120.000000</td>\n",
       "      <td>37.600000</td>\n",
       "    </tr>\n",
       "  </tbody>\n",
       "</table>\n",
       "</div>"
      ],
      "text/plain": [
       "       time_point  steps_count  heart_rate  skin_temp\n",
       "count   24.000000    24.000000   24.000000  24.000000\n",
       "mean    11.500000  1340.000000   74.125000  36.850000\n",
       "std      7.071068  1842.708309   18.101916   0.486335\n",
       "min      0.000000     0.000000   55.000000  36.000000\n",
       "25%      5.750000     0.000000   58.750000  36.475000\n",
       "50%     11.500000   350.000000   70.000000  36.950000\n",
       "75%     17.250000  2250.000000   85.000000  37.225000\n",
       "max     23.000000  6000.000000  120.000000  37.600000"
      ]
     },
     "execution_count": 6,
     "metadata": {},
     "output_type": "execute_result"
    }
   ],
   "source": [
    "df.describe()"
   ]
  },
  {
   "cell_type": "code",
   "execution_count": 7,
   "id": "fdca8f54",
   "metadata": {},
   "outputs": [
    {
     "name": "stdout",
     "output_type": "stream",
     "text": [
      "Heart rate during workout:\n",
      " 7     120.0\n",
      "18    110.0\n",
      "Name: heart_rate, dtype: float64\n"
     ]
    }
   ],
   "source": [
    "# 1. Workout heart rates\n",
    "\n",
    "workout_hr = df.loc[df[\"event_flag\"] == \"workout\", \"heart_rate\"]\n",
    "print(\"Heart rate during workout:\\n\", workout_hr)"
   ]
  },
  {
   "cell_type": "code",
   "execution_count": 11,
   "id": "43a50d1c",
   "metadata": {},
   "outputs": [
    {
     "name": "stdout",
     "output_type": "stream",
     "text": [
      "📌 Heart rate during workout:\n",
      "\n",
      " time_point  heart_rate\n",
      "          7       120.0\n",
      "         18       110.0\n"
     ]
    }
   ],
   "source": [
    "# 1.1 Heart rate during workout hours (табличный вывод)\n",
    "workout_hr_table = df.loc[df[\"event_flag\"] == \"workout\", [\"time_point\", \"heart_rate\"]]\n",
    "\n",
    "print(\"📌 Heart rate during workout:\\n\")\n",
    "print(workout_hr_table.to_string(index=False))\n"
   ]
  },
  {
   "cell_type": "code",
   "execution_count": 14,
   "id": "653e51e4",
   "metadata": {},
   "outputs": [
    {
     "name": "stdout",
     "output_type": "stream",
     "text": [
      "🌡 Средняя температура кожи при 'normal': 37.2 °C\n"
     ]
    }
   ],
   "source": [
    "# 1.2 Calculate the average skin_temp value during the hours when the event is 'normal'.\n",
    "avg_temp_normal = df.loc[df[\"event_flag\"] == \"normal\", \"skin_temp\"].mean()\n",
    "print(\"🌡 Average skin temperature at 'normal':\", round(avg_temp_normal, 2), \"°C\")\n"
   ]
  },
  {
   "cell_type": "code",
   "execution_count": 16,
   "id": "5e4c2eba",
   "metadata": {},
   "outputs": [
    {
     "name": "stdout",
     "output_type": "stream",
     "text": [
      "📈 Изменение количества шагов по часам:\n",
      "   time_point  steps_count  step_change\n",
      "0           0            0          NaN\n",
      "1           1            0          0.0\n",
      "2           2            0          0.0\n",
      "3           3            0          0.0\n",
      "4           4            0          0.0\n",
      "5           5            0          0.0\n",
      "6           6           10         10.0\n",
      "7           7          500        490.0\n",
      "8           8         2000       1500.0\n",
      "9           9         3000       1000.0\n"
     ]
    }
   ],
   "source": [
    "# 2.1 Calculate the change in the number of steps per hour (the difference between the current and previous value)\n",
    "\n",
    "df[\"step_change\"] = df[\"steps_count\"].diff()\n",
    "print(\"📈 Changing the number of steps by hour:\")\n",
    "print(df[[\"time_point\", \"steps_count\", \"step_change\"]].head(10))"
   ]
  },
  {
   "cell_type": "code",
   "execution_count": 17,
   "id": "dc708dc9",
   "metadata": {},
   "outputs": [
    {
     "name": "stdout",
     "output_type": "stream",
     "text": [
      "🔼 Часы, когда количество шагов увеличилось:\n",
      " time_point  steps_count  step_change\n",
      "          6           10         10.0\n",
      "          7          500        490.0\n",
      "          8         2000       1500.0\n",
      "          9         3000       1000.0\n",
      "         10         4000       1000.0\n",
      "         11         5000       1000.0\n",
      "         12         6000       1000.0\n",
      "         18          800        300.0\n"
     ]
    }
   ],
   "source": [
    "# 2.2 Find the hours when steps_count increased compared to the previous one.\n",
    "\n",
    "increased_steps = df[df[\"step_change\"] > 0]\n",
    "print(\"🔼 Hours when the number of steps increased:\")\n",
    "print(increased_steps[[\"time_point\", \"steps_count\", \"step_change\"]].to_string(index=False))"
   ]
  },
  {
   "cell_type": "code",
   "execution_count": 18,
   "id": "ff89c8d6",
   "metadata": {},
   "outputs": [
    {
     "name": "stdout",
     "output_type": "stream",
     "text": [
      "📊 2D-массив (time_point, heart_rate):\n",
      "[[ 0. 60.]\n",
      " [ 1. 58.]\n",
      " [ 2. 59.]\n",
      " [ 3. 57.]\n",
      " [ 4. 56.]]\n"
     ]
    }
   ],
   "source": [
    "# 3.1 Step 1: Build a 2D array\n",
    "hr_array = df[[\"time_point\", \"heart_rate\"]].to_numpy()\n",
    "print(\"📊 2D-array (time_point, heart_rate):\")\n",
    "print(hr_array[:5])  # покажем первые 5 строк\n"
   ]
  },
  {
   "cell_type": "code",
   "execution_count": 19,
   "id": "dfde88b8",
   "metadata": {},
   "outputs": [
    {
     "name": "stdout",
     "output_type": "stream",
     "text": [
      "💓 Максимальный пульс 120.0 bpm был в 7:00\n"
     ]
    }
   ],
   "source": [
    "# 3.2 Step 2: Find your maximum heart rate hour\n",
    "max_idx = df[\"heart_rate\"].idxmax()\n",
    "max_time = df.loc[max_idx, \"time_point\"]\n",
    "max_hr = df.loc[max_idx, \"heart_rate\"]\n",
    "\n",
    "print(f\"💓 Maximum heart rate {max_hr} bpm был в {max_time}:00\")"
   ]
  },
  {
   "cell_type": "code",
   "execution_count": 21,
   "id": "d0d892f5",
   "metadata": {},
   "outputs": [],
   "source": [
    "# 4.1 We believe that during sleep steps_count is incorrect. Replace all such values ​​with np.nan.\n",
    "\n",
    "df[\"steps_cleaned\"] = df[\"steps_count\"].copy()\n",
    "df.loc[df[\"event_flag\"] == \"sleep\", \"steps_cleaned\"] = np.nan\n"
   ]
  },
  {
   "cell_type": "code",
   "execution_count": 22,
   "id": "649d6ec7",
   "metadata": {},
   "outputs": [
    {
     "name": "stdout",
     "output_type": "stream",
     "text": [
      "🚶 Среднее количество шагов (без сна): 1891.76\n"
     ]
    }
   ],
   "source": [
    "# 4.2 Now recalculate the steps_count average, ignoring NaNs: np.nanmean(...).\n",
    "\n",
    "avg_steps_cleaned = np.nanmean(df[\"steps_cleaned\"])\n",
    "print(f\"🚶 Average number of steps (without sleep): {round(avg_steps_cleaned, 2)}\")\n"
   ]
  },
  {
   "cell_type": "code",
   "execution_count": null,
   "id": "b07526a0",
   "metadata": {},
   "outputs": [],
   "source": []
  }
 ],
 "metadata": {
  "kernelspec": {
   "display_name": "Python 3 (ipykernel)",
   "language": "python",
   "name": "python3"
  },
  "language_info": {
   "codemirror_mode": {
    "name": "ipython",
    "version": 3
   },
   "file_extension": ".py",
   "mimetype": "text/x-python",
   "name": "python",
   "nbconvert_exporter": "python",
   "pygments_lexer": "ipython3",
   "version": "3.9.13"
  },
  "toc": {
   "base_numbering": 1,
   "nav_menu": {},
   "number_sections": true,
   "sideBar": true,
   "skip_h1_title": false,
   "title_cell": "Table of Contents",
   "title_sidebar": "Contents",
   "toc_cell": false,
   "toc_position": {},
   "toc_section_display": true,
   "toc_window_display": false
  }
 },
 "nbformat": 4,
 "nbformat_minor": 5
}
